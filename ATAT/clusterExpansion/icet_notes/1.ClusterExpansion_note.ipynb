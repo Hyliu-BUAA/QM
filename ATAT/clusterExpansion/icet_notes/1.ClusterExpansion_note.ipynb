{
 "cells": [
  {
   "cell_type": "markdown",
   "metadata": {},
   "source": [
    "# `icet.ClusterSpace`\n",
    "<font color=\"steelblue\" size=\"4\">\n",
    "\n",
    "1. Code site: https://gitlab.com/materials-modeling/icet/-/blob/master/icet/core/cluster_space.pyhttps://gitlab.com/materials-modeling/icet/-/blob/master/icet/core/cluster_space.py\n",
    "2. `spglib` for python: https://spglib.github.io/spglib/python-spglib.html\n",
    "\n",
    "</font>"
   ]
  },
  {
   "cell_type": "markdown",
   "metadata": {},
   "source": [
    "# 1. Usage of `ClusterSpace`"
   ]
  },
  {
   "cell_type": "markdown",
   "metadata": {},
   "source": [
    "## 1.1. Demo 1: `AgPd` alloy (`FCC`)"
   ]
  },
  {
   "cell_type": "code",
   "execution_count": 7,
   "metadata": {},
   "outputs": [
    {
     "name": "stdout",
     "output_type": "stream",
     "text": [
      "====================================== Cluster Space ======================================\n",
      " space group                            : Fm-3m (225)\n",
      " chemical species                       : ['Ag', 'Pd'] (sublattice A)\n",
      " cutoffs                                : 7.0000 4.5000\n",
      " total number of parameters             : 9\n",
      " number of parameters by order          : 0= 1  1= 1  2= 5  3= 2\n",
      " fractional_position_tolerance          : 2e-06\n",
      " position_tolerance                     : 1e-05\n",
      " symprec                                : 1e-05\n",
      "-------------------------------------------------------------------------------------------\n",
      "index | order |  radius  | multiplicity | orbit_index | multicomponent_vector | sublattices\n",
      "-------------------------------------------------------------------------------------------\n",
      "   0  |   0   |   0.0000 |        1     |      -1     |           .           |      .     \n",
      "   1  |   1   |   0.0000 |        1     |       0     |          [0]          |      A     \n",
      "   2  |   2   |   1.4460 |        6     |       1     |        [0, 0]         |     A-A    \n",
      "   3  |   2   |   2.0450 |        3     |       2     |        [0, 0]         |     A-A    \n",
      "   4  |   2   |   2.5046 |       12     |       3     |        [0, 0]         |     A-A    \n",
      "   5  |   2   |   2.8921 |        6     |       4     |        [0, 0]         |     A-A    \n",
      "   6  |   2   |   3.2334 |       12     |       5     |        [0, 0]         |     A-A    \n",
      "   7  |   3   |   1.6697 |        8     |       6     |       [0, 0, 0]       |    A-A-A   \n",
      "   8  |   3   |   1.8915 |       12     |       7     |       [0, 0, 0]       |    A-A-A   \n",
      "===========================================================================================\n"
     ]
    }
   ],
   "source": [
    "from ase.build import bulk\n",
    "from ase.io import read as ase_read\n",
    "from ase.visualize import view as ase_view\n",
    "from icet import ClusterSpace\n",
    "\n",
    "\n",
    "# AgPd alloy with pairs up to 7.0 A and triplets up to 4.5 A\n",
    "prim = bulk('Ag') \n",
    "cluster_space = ClusterSpace(\n",
    "                        structure=prim,\n",
    "                        cutoffs=[7.0, 4.5],\n",
    "                        chemical_symbols=[[\"Ag\", \"Pd\"]]\n",
    "                        )\n",
    "print(cluster_space)"
   ]
  },
  {
   "cell_type": "markdown",
   "metadata": {},
   "source": [
    "## 1.2. Demo 2: `MoW` alloy (`BCC`)"
   ]
  },
  {
   "cell_type": "code",
   "execution_count": 8,
   "metadata": {},
   "outputs": [
    {
     "name": "stdout",
     "output_type": "stream",
     "text": [
      "====================================== Cluster Space ======================================\n",
      " space group                            : Im-3m (229)\n",
      " chemical species                       : ['Mo', 'W'] (sublattice A)\n",
      " cutoffs                                : 7.0000 4.5000\n",
      " total number of parameters             : 13\n",
      " number of parameters by order          : 0= 1  1= 1  2= 7  3= 4\n",
      " fractional_position_tolerance          : 2e-06\n",
      " position_tolerance                     : 1e-05\n",
      " symprec                                : 1e-05\n",
      "-------------------------------------------------------------------------------------------\n",
      "index | order |  radius  | multiplicity | orbit_index | multicomponent_vector | sublattices\n",
      "-------------------------------------------------------------------------------------------\n",
      "   0  |   0   |   0.0000 |        1     |      -1     |           .           |      .     \n",
      "   1  |   1   |   0.0000 |        1     |       0     |          [0]          |      A     \n",
      "   2  |   2   |   1.3640 |        4     |       1     |        [0, 0]         |     A-A    \n",
      "   3  |   2   |   1.5750 |        3     |       2     |        [0, 0]         |     A-A    \n",
      "   4  |   2   |   2.2274 |        6     |       3     |        [0, 0]         |     A-A    \n",
      "   5  |   2   |   2.6118 |       12     |       4     |        [0, 0]         |     A-A    \n",
      "   6  |   2   |   2.7280 |        4     |       5     |        [0, 0]         |     A-A    \n",
      "   7  |   2   |   3.1500 |        3     |       6     |        [0, 0]         |     A-A    \n",
      "   8  |   2   |   3.4326 |       12     |       7     |        [0, 0]         |     A-A    \n",
      "   9  |   3   |   1.6558 |       12     |       8     |       [0, 0, 0]       |    A-A-A   \n",
      "  10  |   3   |   1.8756 |       12     |       9     |       [0, 0, 0]       |    A-A-A   \n",
      "  11  |   3   |   2.0602 |       12     |      10     |       [0, 0, 0]       |    A-A-A   \n",
      "  12  |   3   |   2.5720 |        8     |      11     |       [0, 0, 0]       |    A-A-A   \n",
      "===========================================================================================\n"
     ]
    }
   ],
   "source": [
    "# MoWs alloy with pairs up to 7.0 A and triplets up to 4.5 A\n",
    "prim = bulk('Mo') \n",
    "cluster_space = ClusterSpace(\n",
    "                        structure=prim,\n",
    "                        cutoffs=[7.0, 4.5],\n",
    "                        chemical_symbols=[[\"Mo\", \"W\"]]\n",
    "                        )\n",
    "print(cluster_space)"
   ]
  },
  {
   "cell_type": "code",
   "execution_count": null,
   "metadata": {},
   "outputs": [],
   "source": []
  }
 ],
 "metadata": {
  "kernelspec": {
   "display_name": "Python 3.9.7 ('research')",
   "language": "python",
   "name": "python3"
  },
  "language_info": {
   "codemirror_mode": {
    "name": "ipython",
    "version": 3
   },
   "file_extension": ".py",
   "mimetype": "text/x-python",
   "name": "python",
   "nbconvert_exporter": "python",
   "pygments_lexer": "ipython3",
   "version": "3.9.7"
  },
  "orig_nbformat": 4,
  "vscode": {
   "interpreter": {
    "hash": "7b361d90544c21c7e570702d0c4d23653c8dcac4c1ecf309667aae54eeacb0d0"
   }
  }
 },
 "nbformat": 4,
 "nbformat_minor": 2
}
