{
 "cells": [
  {
   "cell_type": "markdown",
   "metadata": {},
   "source": [
    "# Varibales in `spglib`"
   ]
  },
  {
   "cell_type": "code",
   "execution_count": 1,
   "metadata": {},
   "outputs": [],
   "source": [
    "import spglib"
   ]
  },
  {
   "cell_type": "markdown",
   "metadata": {},
   "source": [
    "# 1. `Crystal structure` (`cell`)\n",
    "<font color=\"steelblue\" size=\"4\">\n",
    "\n",
    "1. A `crystal structure` is given by `tuple`.\n",
    "2. The `tuple` format is shown as follows. There are three or four elements in the tuple\n",
    "    - `cell = (lattice, positions, numbers)`\n",
    "    - `cell = (lattice, positions, numbers, magmoms)`\n",
    "3. `lattice`: Lattice parameters `lattice` are given by 3*3 matrix with floating point values. <font color=\"red\">经过归一化处理</font>\n",
    "4. `positions`: <font color=\"red\">Fractional atomic positions</font> positions are given by a Nx3 matrix with floating point values, where `N` is the number of atoms.\n",
    "5. `numbers`: Numbers to distinguish atomic species numbers are given by a list of N integers. (<font color=\"red\">可以使用原子序数</font>)\n",
    "6. `magmoms`: The `collinear polarizations magmoms` work with `get_magnetic_symmetry` and are given as a list of N floating point values.\n",
    "\n",
    "</font>\n",
    "\n",
    "```python \n",
    "lattice = [[a_x, a_y, a_z],\n",
    "            [b_x, b_y, b_z],\n",
    "            [c_x, c_y, c_z]]\n",
    "positions = [[a_1, b_1, c_1],\n",
    "               [a_2, b_2, c_2],\n",
    "               [a_3, b_3, c_3],\n",
    "               ...]\n",
    "numbers = [n_1, n_2, n_3, ...]\n",
    "magmoms = [m_1, m_2, m_3, ...]  # Works with get_magnetic_symmetry\n",
    "```"
   ]
  },
  {
   "cell_type": "code",
   "execution_count": 2,
   "metadata": {},
   "outputs": [],
   "source": [
    "# For example, the crystal structure (cell) of L1_2-type AlNi_3 is:\n",
    "lattice = [\n",
    "            [1.0, 0.0, 0.0],\n",
    "            [0.0, 1.0, 0.0],\n",
    "            [0.0, 0.0, 1.0],\n",
    "        ]\n",
    "positions = [\n",
    "            [0.0, 0.0, 0.0],    # Al\n",
    "            [0.5, 0.5, 0.0],    # Ni\n",
    "            [0.0, 0.5, 0.5],    # Ni\n",
    "            [0.5, 0.0, 0.5],    # Ni\n",
    "        ]\n",
    "numbers = [1, 2, 2, 2]  # Al, Ni, Ni, Ni\n"
   ]
  },
  {
   "cell_type": "markdown",
   "metadata": {},
   "source": [
    "Ase interference\n",
    "----------------\n",
    "1. 我们可以从 ASE 得到上述 `tuple` 所需要的全部信息\n",
    "```python\n",
    "lattice = cell.get_cell()\n",
    "positions = cell.get_scaled_positions()\n",
    "numbers = cell.get_atomic_numbers()\n",
    "magmoms = None\n",
    "```"
   ]
  },
  {
   "cell_type": "markdown",
   "metadata": {},
   "source": [
    "# 2. Symmetry tolerance\n",
    "<font color=\"steelblue\" size=\"4\">\n",
    "\n",
    "1. `symprec`: |x' - x| < symprec\n",
    "2. `angle_tolerance`\n",
    "3. `mag_symprec`\n",
    "\n",
    "</font>"
   ]
  },
  {
   "cell_type": "code",
   "execution_count": null,
   "metadata": {},
   "outputs": [],
   "source": []
  }
 ],
 "metadata": {
  "kernelspec": {
   "display_name": "Python 3.9.7 ('research')",
   "language": "python",
   "name": "python3"
  },
  "language_info": {
   "codemirror_mode": {
    "name": "ipython",
    "version": 3
   },
   "file_extension": ".py",
   "mimetype": "text/x-python",
   "name": "python",
   "nbconvert_exporter": "python",
   "pygments_lexer": "ipython3",
   "version": "3.9.7"
  },
  "orig_nbformat": 4,
  "vscode": {
   "interpreter": {
    "hash": "7b361d90544c21c7e570702d0c4d23653c8dcac4c1ecf309667aae54eeacb0d0"
   }
  }
 },
 "nbformat": 4,
 "nbformat_minor": 2
}
