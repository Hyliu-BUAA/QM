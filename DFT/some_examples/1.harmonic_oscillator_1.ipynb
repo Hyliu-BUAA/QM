{
 "cells": [
  {
   "cell_type": "markdown",
   "metadata": {},
   "source": [
    "- reference: https://jendrzejewski.synqs.org/post/2021-plotting-in-python/"
   ]
  },
  {
   "cell_type": "markdown",
   "metadata": {},
   "source": [
    "# 1. Quantum harmonic oscillator\n",
    "\n",
    "1. We will work our way through quantum harmonic oscillator for which the potential is:\n",
    "$$ V(x) = \\frac{m\\omega^2}{2}x^2 $$ \n"
   ]
  },
  {
   "cell_type": "code",
   "execution_count": 2,
   "metadata": {},
   "outputs": [],
   "source": [
    "import matplotlib.pyplot as plt\n",
    "import numpy as np\n",
    "from numpy import linalg as LA"
   ]
  },
  {
   "cell_type": "code",
   "execution_count": 3,
   "metadata": {},
   "outputs": [
    {
     "data": {
      "text/plain": [
       "Text(0, 0.5, 'Potential $V(x)')"
      ]
     },
     "execution_count": 3,
     "metadata": {},
     "output_type": "execute_result"
    },
    {
     "data": {
      "image/png": "[encoded data removed]",
      "text/plain": [
       "<Figure size 432x288 with 1 Axes>"
      ]
     },
     "metadata": {
      "needs_background": "light"
     },
     "output_type": "display_data"
    }
   ],
   "source": [
    "### Plot the harmonic potential\n",
    "\n",
    "# 1. Parameters for the harmonic potential\n",
    "m = 1 \n",
    "omega = 2 * np.pi\n",
    "hbar = 1 \n",
    "\n",
    "# 2. Parameters of the grid\n",
    "n_grid = 1001\n",
    "xmin = -10\n",
    "xmax = 10\n",
    "\n",
    "xs_lst = np.linspace(xmin, xmax, n_grid)  # #a vector spanning from -10 to 10 with 1001 grid points\n",
    "potentials_lst = m * np.power(omega, 2) / 2 * np.power(xs_lst, 2)\n",
    "\n",
    "# 3. Plot\n",
    "f, ax = plt.subplots()\n",
    "ax.plot(xs_lst, potentials_lst)\n",
    "ax.set_xlabel(\"Position $x$\")\n",
    "ax.set_ylabel(\"Potential $V(x)\")"
   ]
  },
  {
   "cell_type": "markdown",
   "metadata": {},
   "source": [
    "# 2. Numerical diagonalization (数值对角化)\n",
    "\n",
    "1. While the potential is nice to look at, we would actually like to use python to do some more powerful stuff than simple plots. One of them is the `numerical diagonialization` of the problem."
   ]
  },
  {
   "cell_type": "markdown",
   "metadata": {},
   "source": [
    "## 2.1. Kinetic energy\n",
    "1. We first have to `build the matrix that represents the kinetic energy`.\n",
    "2. The `second order derivative` as:\n",
    "$$ f^{''}(x) = \\frac{f(x+dx) - 2f(x) + f(x-dx)}{dx^2} $$\n",
    "3. Kinetic Energy:\n",
    "$$  $$"
   ]
  },
  {
   "cell_type": "code",
   "execution_count": 4,
   "metadata": {},
   "outputs": [
    {
     "data": {
      "text/plain": [
       "matrix([[    0.,     0.,     0., ...,     0.,     0.,     0.],\n",
       "        [-1250.,  2500., -1250., ...,     0.,     0.,     0.],\n",
       "        [    0., -1250.,  2500., ...,     0.,     0.,     0.],\n",
       "        ...,\n",
       "        [    0.,     0.,     0., ...,  2500., -1250.,     0.],\n",
       "        [    0.,     0.,     0., ..., -1250.,  2500., -1250.],\n",
       "        [    0.,     0.,     0., ...,     0.,     0.,     0.]])"
      ]
     },
     "execution_count": 4,
     "metadata": {},
     "output_type": "execute_result"
    }
   ],
   "source": [
    "# 1. resolution of the grid = 0.02\n",
    "dx = np.diff(xs_lst).mean()\n",
    "\n",
    "dia = -2*np.ones(n_grid)\n",
    "offdia = np.ones(n_grid - 1)\n",
    "    # np.diag(offdia, 1)  : 首列加一列 (全为0)\n",
    "    # np.diag(offdia, -1) : 首行加一行 (全为0)\n",
    "d2grid = np.mat(np.diag(dia,0) + np.diag(offdia,-1) + np.diag(offdia,1))/dx**2\n",
    "\n",
    "# 2. Avoid strage things at the edge of the grid\n",
    "d2grid[0, :] = 0\n",
    "d2grid[n_grid-1,:] = 0\n",
    "\n",
    "# 3. Calculate the `Kinetic energy`\n",
    "Ekin = -hbar**2 / (2*m) * d2grid\n",
    "\n",
    "Ekin"
   ]
  },
  {
   "cell_type": "markdown",
   "metadata": {},
   "source": [
    "# 3. Potential energy"
   ]
  },
  {
   "cell_type": "code",
   "execution_count": 5,
   "metadata": {},
   "outputs": [],
   "source": [
    "# potential energy as matrix Epot"
   ]
  },
  {
   "cell_type": "code",
   "execution_count": 6,
   "metadata": {},
   "outputs": [
    {
     "data": {
      "text/plain": [
       "matrix([[1973.92088022,    0.        ,    0.        , ...,    0.        ,\n",
       "            0.        ,    0.        ],\n",
       "        [   0.        , 1966.03309238,    0.        , ...,    0.        ,\n",
       "            0.        ,    0.        ],\n",
       "        [   0.        ,    0.        , 1958.16109591, ...,    0.        ,\n",
       "            0.        ,    0.        ],\n",
       "        ...,\n",
       "        [   0.        ,    0.        ,    0.        , ..., 1958.16109591,\n",
       "            0.        ,    0.        ],\n",
       "        [   0.        ,    0.        ,    0.        , ...,    0.        ,\n",
       "         1966.03309238,    0.        ],\n",
       "        [   0.        ,    0.        ,    0.        , ...,    0.        ,\n",
       "            0.        , 1973.92088022]])"
      ]
     },
     "execution_count": 6,
     "metadata": {},
     "output_type": "execute_result"
    }
   ],
   "source": [
    "Epot = np.mat(np.diag(potentials_lst, 0))\n",
    "Epot"
   ]
  },
  {
   "cell_type": "markdown",
   "metadata": {},
   "source": [
    "# 4. Diagonalization\n",
    "1. We can now put them together as:\n",
    "\n"
   ]
  },
  {
   "cell_type": "code",
   "execution_count": 7,
   "metadata": {},
   "outputs": [],
   "source": [
    "# 1. combine to Hamiltonian, diagonalize and plot the lowest 30 energy eigenvalues\n",
    "H =  Ekin + Epot\n",
    "\n",
    "# 2. diagonalization\n",
    "    # w: 本征值\n",
    "    # v: 本征向量\n",
    "w, v = LA.eig(H)\n",
    "\n",
    "# 3. sort it such that things look nice later\n",
    "sort_indexs_lst = np.argsort(w)\n",
    "eig_vecs_lst = v[:, sort_indexs_lst]\n",
    "eig_vals_lst = w[sort_indexs_lst]"
   ]
  },
  {
   "cell_type": "markdown",
   "metadata": {},
   "source": [
    "## 4.1. Time to plot up the `eigenvalues`"
   ]
  },
  {
   "cell_type": "code",
   "execution_count": 8,
   "metadata": {},
   "outputs": [
    {
     "data": {
      "text/plain": [
       "Text(0.5, 0, 'index $n$')"
      ]
     },
     "execution_count": 8,
     "metadata": {},
     "output_type": "execute_result"
    },
    {
     "data": {
      "image/png": "[encoded data removed]",
      "text/plain": [
       "<Figure size 432x288 with 1 Axes>"
      ]
     },
     "metadata": {
      "needs_background": "light"
     },
     "output_type": "display_data"
    }
   ],
   "source": [
    "f, ax = plt.subplots()\n",
    "ax.plot(eig_vals_lst[0:30],'o')\n",
    "ax.set_ylabel('Energy')\n",
    "ax.set_xlabel('index $n$')"
   ]
  },
  {
   "cell_type": "markdown",
   "metadata": {},
   "source": [
    "## 4.2. and now some eigenfunctions"
   ]
  },
  {
   "cell_type": "code",
   "execution_count": 13,
   "metadata": {},
   "outputs": [
    {
     "data": {
      "image/png": "[encoded data removed]",
      "text/plain": [
       "<Figure size 432x288 with 2 Axes>"
      ]
     },
     "metadata": {
      "needs_background": "light"
     },
     "output_type": "display_data"
    }
   ],
   "source": [
    "n = 2\n",
    "fig, (ax1,ax2) = plt.subplots(2, 1, sharex=True)\n",
    "\n",
    "ax1.plot(xs_lst, np.real(eig_vecs_lst[:,n]))\n",
    "ax1.set(title='Realteil Eigenfunktion %d'%(n),xlabel='x')\n",
    "\n",
    "ax2.plot(xs_lst, np.power(np.abs(eig_vecs_lst[:,n]), 2))\n",
    "ax2.set(title='AbsQuadrat Eigenfunktion %d'%(n),xlabel='x')\n",
    "\n",
    "fig.tight_layout()"
   ]
  },
  {
   "cell_type": "code",
   "execution_count": null,
   "metadata": {},
   "outputs": [],
   "source": []
  }
 ],
 "metadata": {
  "kernelspec": {
   "display_name": "Python 3.9.7 ('research')",
   "language": "python",
   "name": "python3"
  },
  "language_info": {
   "codemirror_mode": {
    "name": "ipython",
    "version": 3
   },
   "file_extension": ".py",
   "mimetype": "text/x-python",
   "name": "python",
   "nbconvert_exporter": "python",
   "pygments_lexer": "ipython3",
   "version": "3.9.7"
  },
  "orig_nbformat": 4,
  "vscode": {
   "interpreter": {
    "hash": "7b361d90544c21c7e570702d0c4d23653c8dcac4c1ecf309667aae54eeacb0d0"
   }
  }
 },
 "nbformat": 4,
 "nbformat_minor": 2
}
