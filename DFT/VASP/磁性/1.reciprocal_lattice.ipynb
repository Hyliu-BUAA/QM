{
 "cells": [
  {
   "cell_type": "markdown",
   "metadata": {},
   "source": [
    "# 确定晶格的第一布里渊区 (计算能带时需要自己确定 `KPATH`)"
   ]
  },
  {
   "cell_type": "markdown",
   "metadata": {},
   "source": [
    "# 0. `numpy` 中的三种乘法"
   ]
  },
  {
   "cell_type": "markdown",
   "metadata": {},
   "source": [
    "## 0.1. 星乘 (`*`)\n",
    "1. 数组星乘，就是数组的对应元素相乘\n",
    "2. 即使两个数组的shape不一样，只要满足特定条件，同样可以用星号相乘，且满足交换律。"
   ]
  },
  {
   "cell_type": "code",
   "execution_count": 1,
   "metadata": {},
   "outputs": [
    {
     "data": {
      "text/plain": [
       "array([ 4, 10, 18])"
      ]
     },
     "execution_count": 1,
     "metadata": {},
     "output_type": "execute_result"
    }
   ],
   "source": [
    "import numpy as np\n",
    "\n",
    "### shape 相同的 array 的星乘 -- 一维\n",
    "a = np.array([1, 2, 3])\n",
    "b = np.array([4, 5, 6])\n",
    "a * b"
   ]
  },
  {
   "cell_type": "code",
   "execution_count": 3,
   "metadata": {},
   "outputs": [
    {
     "name": "stdout",
     "output_type": "stream",
     "text": [
      "[[0 1 2]\n",
      " [3 4 5]]\n",
      "[[ 6  7  8]\n",
      " [ 9 10 11]]\n",
      "[[ 0  7 16]\n",
      " [27 40 55]]\n"
     ]
    }
   ],
   "source": [
    "### shape 相同的 array 的星乘 -- 多维\n",
    "a = np.arange(6).reshape( (2, 3) )\n",
    "b = np.arange(6, 12).reshape( (2, 3) )\n",
    "print(a)\n",
    "print(b)\n",
    "print(a * b)"
   ]
  },
  {
   "cell_type": "code",
   "execution_count": 4,
   "metadata": {},
   "outputs": [
    {
     "name": "stdout",
     "output_type": "stream",
     "text": [
      "[[0 1 2]\n",
      " [3 4 5]]\n",
      "[1 2 3]\n",
      "[[ 0  2  6]\n",
      " [ 3  8 15]]\n"
     ]
    }
   ],
   "source": [
    "### shape 不同的 array 的星乘\n",
    "a = np.arange(6).reshape((2,3))\n",
    "b = np.array([1,2,3])\n",
    "print(a)\n",
    "print(b)\n",
    "print(a * b)"
   ]
  },
  {
   "cell_type": "markdown",
   "metadata": {},
   "source": [
    "## 0.2. 点乘 (`np.dot()`)\n",
    "1. 在数学上，向量点乘就是两个向量的对应位相乘后求和，因此向量点乘`得到的是标量`。\n",
    "$$\\begin{aligned}\n",
    "\\vec{a} = \\left[ a_1, a_2, ..., a_n \\right] \\\\\n",
    "\\vec{b} = \\left[ b_1, b_2, ..., b_n \\right] \\\\\n",
    "\\vec{a}\\cdot\\vec{b} = a_1b_1 + a_2b_2 + ... + a_nb_n = |\\vec{a}||\\vec{b}|\\cos{\\theta}\n",
    "\\end{aligned}$$\n",
    "2. 对于多维数组，则需要满足一定条件才能实现点乘，且其结果不再是标量，而是一个多维数组。比如，NumPy的矩阵相乘，就是`二维数组的点乘`，参与点乘的`第一个数组的列数必须等于第二个数组的行数`。"
   ]
  },
  {
   "cell_type": "code",
   "execution_count": 6,
   "metadata": {},
   "outputs": [
    {
     "name": "stdout",
     "output_type": "stream",
     "text": [
      "14\n"
     ]
    }
   ],
   "source": [
    "### 向量的点乘\n",
    "a = np.array([1, 2, 3])\n",
    "b = np.array([1, 2, 3])\n",
    "print( np.dot(a, b) )"
   ]
  },
  {
   "cell_type": "code",
   "execution_count": 8,
   "metadata": {},
   "outputs": [
    {
     "name": "stdout",
     "output_type": "stream",
     "text": [
      "[[0 1 2]\n",
      " [3 4 5]]\n",
      "[[ 6  7  8  9]\n",
      " [10 11 12 13]\n",
      " [14 15 16 17]]\n",
      "[[ 38  41  44  47]\n",
      " [128 140 152 164]]\n"
     ]
    }
   ],
   "source": [
    "### 多维数组 (矩阵) 的点乘\n",
    "a = np.arange(6).reshape((2,3))\n",
    "b = np.arange(6,18).reshape((3,4))\n",
    "c = np.dot(a,b)\n",
    "\n",
    "print(a)\n",
    "print(b)\n",
    "print(c)"
   ]
  },
  {
   "cell_type": "markdown",
   "metadata": {},
   "source": [
    "## 0.3. 叉乘\n",
    "1. 在数学上，二维平面的向量叉乘，其结果是以两个向量为边的菱形的面积"
   ]
  },
  {
   "cell_type": "code",
   "execution_count": 10,
   "metadata": {},
   "outputs": [
    {
     "name": "stdout",
     "output_type": "stream",
     "text": [
      "4\n"
     ]
    }
   ],
   "source": [
    "# 平面向量叉乘，其结果是以两个向量为边的菱形的面积\n",
    "a = np.array([2,0])\n",
    "b = np.array([2,2])\n",
    "\n",
    "print( np.cross(a, b) )"
   ]
  },
  {
   "cell_type": "code",
   "execution_count": 11,
   "metadata": {},
   "outputs": [
    {
     "name": "stdout",
     "output_type": "stream",
     "text": [
      "[0 0 1]\n",
      "[ 0  0 -1]\n"
     ]
    }
   ],
   "source": [
    "a = np.array([1,0,0])\n",
    "b = np.array([0,1,0])\n",
    "print( np.cross(a,b) )  # x轴叉乘y轴，得到z轴\n",
    "print( np.cross(b,a) ) # 叉乘交换顺序，得到反向的法向量"
   ]
  },
  {
   "cell_type": "markdown",
   "metadata": {},
   "source": [
    "# 1. Reciprocal lattice"
   ]
  },
  {
   "cell_type": "markdown",
   "metadata": {},
   "source": [
    "## 1.1. Reciprocal lattice for `3D`\n",
    "1. 已知$\\vec{a_1},\\vec{a_2},\\vec{a_3}$是`real space`的基矢，$\\vec{b_1},\\vec{b_2},\\vec{b_3}$是`k space(reciprocal space)`的基矢\n",
    "$$\\begin{aligned}\n",
    "\\vec{b_1} = 2\\pi\\frac{\\vec{a_2}\\times\\vec{a_3}}{V} \\\\\n",
    "\\vec{b_2} = 2\\pi\\frac{\\vec{a_3}\\times\\vec{a_1}}{V} \\\\\n",
    "\\vec{b_3} = 2\\pi\\frac{\\vec{a_1}\\times\\vec{a_2}}{V} \n",
    "\\end{aligned}$$"
   ]
  },
  {
   "cell_type": "markdown",
   "metadata": {},
   "source": [
    "## 1.2. Reciprocal lattice for `2D`\n"
   ]
  },
  {
   "cell_type": "markdown",
   "metadata": {},
   "source": [
    "1. 正空间和倒易空间的基矢满足$b_i\\cdot a_j = 2\\pi\\delta_{ij}$，我们把这个式子表示成矩阵形式:\n",
    "$$\\begin{aligned}\n",
    "\\left(\n",
    "\\begin{matrix}\n",
    "b_{1x} & b_{1y} \\\\\n",
    "b_{2x} & b_{2y}\n",
    "\\end{matrix}\n",
    "\\right)\n",
    "\\left(\n",
    "\\begin{matrix}\n",
    "a_{1x} & a_{2x} \\\\\n",
    "a_{1y} & a_{2y}\n",
    "\\end{matrix}\n",
    "\\right)\n",
    "=\n",
    "2\\pi\n",
    "\\left(\n",
    "\\begin{matrix}\n",
    "1 & 0 \\\\\n",
    "0 & 1\n",
    "\\end{matrix}\n",
    "\\right)\n",
    "\\end{aligned}$$\n",
    "2. 两边同时乘以矩阵的逆:\n",
    "$$\\begin{aligned}\n",
    "\\left(\n",
    "\\begin{matrix}\n",
    "b_{1x} & b_{1y} \\\\\n",
    "b_{2x} & b_{2y}\n",
    "\\end{matrix}\n",
    "\\right)\n",
    "=\n",
    "\\frac{2\\pi}{a_{1x}a_{2y} - a_{1y}a_{2x}}\n",
    "\\left(\n",
    "\\begin{matrix}\n",
    "a_{2y} & -a_{2x} \\\\\n",
    "-a_{1y} & a_{1x}\n",
    "\\end{matrix}\n",
    "\\right)\n",
    "\\end{aligned}$$"
   ]
  }
 ],
 "metadata": {
  "kernelspec": {
   "display_name": "Python 3.9.7 ('research')",
   "language": "python",
   "name": "python3"
  },
  "language_info": {
   "codemirror_mode": {
    "name": "ipython",
    "version": 3
   },
   "file_extension": ".py",
   "mimetype": "text/x-python",
   "name": "python",
   "nbconvert_exporter": "python",
   "pygments_lexer": "ipython3",
   "version": "3.9.7"
  },
  "orig_nbformat": 4,
  "vscode": {
   "interpreter": {
    "hash": "7b361d90544c21c7e570702d0c4d23653c8dcac4c1ecf309667aae54eeacb0d0"
   }
  }
 },
 "nbformat": 4,
 "nbformat_minor": 2
}
