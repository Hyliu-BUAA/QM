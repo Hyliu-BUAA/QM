{
 "cells": [
  {
   "cell_type": "code",
   "execution_count": 26,
   "metadata": {},
   "outputs": [],
   "source": [
    "import numpy as np\n",
    "from scipy import stats\n",
    "import matplotlib.pyplot as plt"
   ]
  },
  {
   "cell_type": "markdown",
   "metadata": {},
   "source": [
    "# 0. 构造数据集"
   ]
  },
  {
   "cell_type": "code",
   "execution_count": 34,
   "metadata": {},
   "outputs": [
    {
     "data": {
      "text/plain": [
       "((50, 2), (1, 50))"
      ]
     },
     "execution_count": 34,
     "metadata": {},
     "output_type": "execute_result"
    }
   ],
   "source": [
    "x_array = np.arange(0, 10, 0.2) # x_array.shape = (50,)\n",
    "m = len(x_array)\n",
    "x0_array = np.full(m, 1.0)    # np.full(<size>, <value>)，区别于 `np.full_like(<np.array>, <value>)`\n",
    "input_data = np.vstack([x_array, x0_array]).T   # np.stack([])：每项为一行，堆叠起来\n",
    "target_data = 2 * x_array + 5 + np.random.randn(m)\n",
    "target_data = target_data[None, :]\n",
    "input_data.shape, target_data.shape"
   ]
  },
  {
   "cell_type": "markdown",
   "metadata": {},
   "source": [
    "# 1. Custom Parameters"
   ]
  },
  {
   "cell_type": "code",
   "execution_count": 35,
   "metadata": {},
   "outputs": [],
   "source": [
    "### Part I. 两种终止条件\n",
    "loop_max = 10000\n",
    "epsilon = 1e-3\n",
    "\n",
    "### Part II. 初始化权重值\n",
    "np.random.seed(0)\n",
    "theta = np.random.randn(2)\n",
    "theta = theta[None, :]\n",
    "\n",
    "alpha = 0.001   # 步长\n",
    "diff = 0\n",
    "error = np.zeros(2)\n",
    "count_loop = 0   # 循环次数\n",
    "mark_finish = 0  # 终止标志"
   ]
  },
  {
   "cell_type": "markdown",
   "metadata": {},
   "source": [
    "# 2."
   ]
  },
  {
   "cell_type": "code",
   "execution_count": 21,
   "metadata": {},
   "outputs": [
    {
     "ename": "ValueError",
     "evalue": "shapes (2,) and (50,2) not aligned: 2 (dim 0) != 50 (dim 0)",
     "output_type": "error",
     "traceback": [
      "\u001b[0;31m---------------------------------------------------------------------------\u001b[0m",
      "\u001b[0;31mValueError\u001b[0m                                Traceback (most recent call last)",
      "\u001b[1;32m/Users/mac/我的文件/Notebook/Quantum_Mechanics/algorithm_implementation/1.GD/code/gd.ipynb Cell 7\u001b[0m in \u001b[0;36m<cell line: 1>\u001b[0;34m()\u001b[0m\n\u001b[1;32m      <a href='vscode-notebook-cell:/Users/mac/%E6%88%91%E7%9A%84%E6%96%87%E4%BB%B6/Notebook/Quantum_Mechanics/algorithm_implementation/1.GD/code/gd.ipynb#W5sZmlsZQ%3D%3D?line=0'>1</a>\u001b[0m \u001b[39mwhile\u001b[39;00m ( count_loop \u001b[39m<\u001b[39m loop_max ):\n\u001b[1;32m      <a href='vscode-notebook-cell:/Users/mac/%E6%88%91%E7%9A%84%E6%96%87%E4%BB%B6/Notebook/Quantum_Mechanics/algorithm_implementation/1.GD/code/gd.ipynb#W5sZmlsZQ%3D%3D?line=1'>2</a>\u001b[0m     count_loop \u001b[39m+\u001b[39m\u001b[39m=\u001b[39m \u001b[39m1\u001b[39m\n\u001b[0;32m----> <a href='vscode-notebook-cell:/Users/mac/%E6%88%91%E7%9A%84%E6%96%87%E4%BB%B6/Notebook/Quantum_Mechanics/algorithm_implementation/1.GD/code/gd.ipynb#W5sZmlsZQ%3D%3D?line=2'>3</a>\u001b[0m     theta \u001b[39m=\u001b[39m theta \u001b[39m-\u001b[39m np\u001b[39m.\u001b[39mdot( ( np\u001b[39m.\u001b[39;49mdot(theta, input_data) \u001b[39m-\u001b[39m target_data ),\n\u001b[1;32m      <a href='vscode-notebook-cell:/Users/mac/%E6%88%91%E7%9A%84%E6%96%87%E4%BB%B6/Notebook/Quantum_Mechanics/algorithm_implementation/1.GD/code/gd.ipynb#W5sZmlsZQ%3D%3D?line=3'>4</a>\u001b[0m                             input_data)\n\u001b[1;32m      <a href='vscode-notebook-cell:/Users/mac/%E6%88%91%E7%9A%84%E6%96%87%E4%BB%B6/Notebook/Quantum_Mechanics/algorithm_implementation/1.GD/code/gd.ipynb#W5sZmlsZQ%3D%3D?line=4'>5</a>\u001b[0m     \u001b[39mprint\u001b[39m(theta)\n\u001b[1;32m      <a href='vscode-notebook-cell:/Users/mac/%E6%88%91%E7%9A%84%E6%96%87%E4%BB%B6/Notebook/Quantum_Mechanics/algorithm_implementation/1.GD/code/gd.ipynb#W5sZmlsZQ%3D%3D?line=5'>6</a>\u001b[0m     \u001b[39mif\u001b[39;00m ((np\u001b[39m.\u001b[39mdot(theta, input_data) \u001b[39m-\u001b[39m target_data)\u001b[39m.\u001b[39msum(axis\u001b[39m=\u001b[39m\u001b[39m0\u001b[39m) \u001b[39m<\u001b[39m epsilon):\n",
      "File \u001b[0;32m<__array_function__ internals>:5\u001b[0m, in \u001b[0;36mdot\u001b[0;34m(*args, **kwargs)\u001b[0m\n",
      "\u001b[0;31mValueError\u001b[0m: shapes (2,) and (50,2) not aligned: 2 (dim 0) != 50 (dim 0)"
     ]
    }
   ],
   "source": [
    "while ( count_loop < loop_max ):\n",
    "    count_loop += 1\n",
    "    theta = theta - np.dot( ( np.dot(theta, input_data.T) - target_data ),\n",
    "                            input_data)\n",
    "    print(theta)\n",
    "    if ((np.dot(theta, input_data.T) - target_data).sum(axis=0) < epsilon):\n",
    "        break\n",
    "print(theta)"
   ]
  },
  {
   "cell_type": "code",
   "execution_count": 36,
   "metadata": {},
   "outputs": [
    {
     "name": "stdout",
     "output_type": "stream",
     "text": [
      "(1, 2) (50, 2)\n"
     ]
    }
   ],
   "source": [
    "print(theta.shape, input_data.shape)"
   ]
  },
  {
   "cell_type": "code",
   "execution_count": 37,
   "metadata": {},
   "outputs": [
    {
     "data": {
      "text/plain": [
       "array([[ 0.40015721,  0.75296768,  1.10577815,  1.45858862,  1.81139909,\n",
       "         2.16420955,  2.51702002,  2.86983049,  3.22264096,  3.57545143,\n",
       "         3.9282619 ,  4.28107237,  4.63388284,  4.98669331,  5.33950378,\n",
       "         5.69231425,  6.04512472,  6.39793518,  6.75074565,  7.10355612,\n",
       "         7.45636659,  7.80917706,  8.16198753,  8.514798  ,  8.86760847,\n",
       "         9.22041894,  9.57322941,  9.92603988, 10.27885035, 10.63166081,\n",
       "        10.98447128, 11.33728175, 11.69009222, 12.04290269, 12.39571316,\n",
       "        12.74852363, 13.1013341 , 13.45414457, 13.80695504, 14.15976551,\n",
       "        14.51257598, 14.86538645, 15.21819691, 15.57100738, 15.92381785,\n",
       "        16.27662832, 16.62943879, 16.98224926, 17.33505973, 17.6878702 ]])"
      ]
     },
     "execution_count": 37,
     "metadata": {},
     "output_type": "execute_result"
    }
   ],
   "source": [
    "np.dot(theta, input_data.T)"
   ]
  },
  {
   "cell_type": "code",
   "execution_count": null,
   "metadata": {},
   "outputs": [],
   "source": []
  }
 ],
 "metadata": {
  "kernelspec": {
   "display_name": "Python 3.9.7 ('research')",
   "language": "python",
   "name": "python3"
  },
  "language_info": {
   "codemirror_mode": {
    "name": "ipython",
    "version": 3
   },
   "file_extension": ".py",
   "mimetype": "text/x-python",
   "name": "python",
   "nbconvert_exporter": "python",
   "pygments_lexer": "ipython3",
   "version": "3.9.7"
  },
  "orig_nbformat": 4,
  "vscode": {
   "interpreter": {
    "hash": "7b361d90544c21c7e570702d0c4d23653c8dcac4c1ecf309667aae54eeacb0d0"
   }
  }
 },
 "nbformat": 4,
 "nbformat_minor": 2
}
