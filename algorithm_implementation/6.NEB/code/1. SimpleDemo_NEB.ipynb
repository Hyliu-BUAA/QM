{
 "cells": [
  {
   "cell_type": "markdown",
   "metadata": {},
   "source": [
    "# 0. Description\n",
    "1. 考虑一个三变量函数，坐标区间是`[-1, 1]`。寻找这个函数在`(0.5, 0.5, 0.5)` 和 `(-0.5, -0.5, -0.5)` 附近的两个局部最小值，以及`两个极小值之间最低能量路径上的鞍点`。"
   ]
  },
  {
   "cell_type": "code",
   "execution_count": 1,
   "metadata": {},
   "outputs": [],
   "source": [
    "import numpy as np\n",
    "from scipy.optimize import minimize"
   ]
  },
  {
   "cell_type": "code",
   "execution_count": 2,
   "metadata": {},
   "outputs": [],
   "source": [
    "def gaussian(pos:np.array, pos0:np.array):\n",
    "    '''\n",
    "    Description\n",
    "    -----------\n",
    "        1. Meassure the distance between pos and pos0\n",
    "    \n",
    "    Parameters\n",
    "    ----------\n",
    "        1. pos: np.array (一维)\n",
    "        2. pos0: np.array (一维)\n",
    "    '''\n",
    "    return np.exp( -np.sum(np.power(pos-pos0, 2), axis=0) )\n",
    "\n",
    "\n",
    "def data(pos:np.array):\n",
    "    return gaussian(pos, np.array([0.1, -0.1, -0.1])) - \\\n",
    "            gaussian(pos, np.array([-0.5, -0.5, -0.5])) - \\\n",
    "            gaussian(pos, np.array([0.5, 0.5, 0.5]))"
   ]
  },
  {
   "cell_type": "markdown",
   "metadata": {},
   "source": [
    "# 1. `BFGS` 算法求解 `(0.5, 0.5, 0.5)`, `(-0.5, -0.5, -0.5)` 附近的最小值"
   ]
  },
  {
   "cell_type": "code",
   "execution_count": 4,
   "metadata": {},
   "outputs": [
    {
     "name": "stdout",
     "output_type": "stream",
     "text": [
      "Point 1:  [0.6052717  0.67115817 0.67115817]\n",
      "Point 2:  [-0.73110579 -0.64589743 -0.64589743]\n"
     ]
    }
   ],
   "source": [
    "pos_1 = [0.5, 0.5, 0.5]\n",
    "res_1 = minimize(fun=data, x0=pos_1, method=\"BFGS\")\n",
    "print(\"Point 1: \", res_1.x)\n",
    "\n",
    "pos_2 = [-0.5, -0.5, -0.5]\n",
    "res_2 = minimize(fun=data, x0=pos_2, method=\"BFGS\")\n",
    "print(\"Point 2: \", res_2.x)"
   ]
  },
  {
   "cell_type": "markdown",
   "metadata": {},
   "source": [
    "# 2. `Target function` 的梯度\n",
    "1. 根据定义直接写"
   ]
  },
  {
   "cell_type": "code",
   "execution_count": 5,
   "metadata": {},
   "outputs": [],
   "source": [
    "def gradient(pos, delta = 0.01):\n",
    "    '''\n",
    "    Desription\n",
    "    ----------\n",
    "        1. 计算 image 在三个方向的梯度\n",
    "    \n",
    "    Parameters\n",
    "    ----------\n",
    "        1. pos: np.array (一维)\n",
    "            image 的坐标\n",
    "        2. delta: float\n",
    "            每次的位移量\n",
    "    '''\n",
    "    gradient_x = ( data(pos + np.array([delta, 0, 0])) - data(pos - np.array([delta, 0, 0])) ) / (2 * delta)\n",
    "    gradient_y = ( data(pos + np.array([0, delta, 0])) - data(pos - np.array([0, delta, 0])) ) / (2 * delta)\n",
    "    gradient_z = ( data(pos + np.array([0, 0, delta])) - data(pos - np.array([0, 0, delta])) ) / (2 * delta)\n",
    "\n",
    "    return np.array([gradient_x, gradient_y, gradient_z])"
   ]
  },
  {
   "cell_type": "markdown",
   "metadata": {},
   "source": [
    "# 3. 寻找鞍点"
   ]
  },
  {
   "cell_type": "markdown",
   "metadata": {},
   "source": [
    "## 3.1. 初始化 `images` -- 直接等间距插点"
   ]
  },
  {
   "cell_type": "code",
   "execution_count": 8,
   "metadata": {},
   "outputs": [
    {
     "name": "stdout",
     "output_type": "stream",
     "text": [
      "[[ 0.6052717   0.67115817  0.67115817]\n",
      " [ 0.47163395  0.53945261  0.53945261]\n",
      " [ 0.3379962   0.40774705  0.40774705]\n",
      " [ 0.20435845  0.27604149  0.27604149]\n",
      " [ 0.0707207   0.14433593  0.14433593]\n",
      " [-0.06291704  0.01263037  0.01263037]\n",
      " [-0.19655479 -0.11907519 -0.11907519]\n",
      " [-0.33019254 -0.25078075 -0.25078075]\n",
      " [-0.46383029 -0.38248631 -0.38248631]\n",
      " [-0.59746804 -0.51419187 -0.51419187]\n",
      " [-0.73110579 -0.64589743 -0.64589743]]\n"
     ]
    }
   ],
   "source": [
    "# 1. NEB 的 start_point 和 end_point\n",
    "pos_A = np.array([0.6052717, 0.67115817, 0.67115817])\n",
    "pos_B = np.array([-0.73110579, -0.64589743, -0.64589743])\n",
    "\n",
    "# 2. NEB images的数量（包含 start_point 和 end_point）\n",
    "num_images = 11\n",
    "\n",
    "# 3. 初始化所有 images 的坐标\n",
    "images = np.zeros([num_images, 3])\n",
    "\n",
    "for i in range(num_images):\n",
    "    images[i] = (pos_B - pos_A) / (num_images-1) * i + pos_A\n",
    "\n",
    "print(images)"
   ]
  },
  {
   "cell_type": "markdown",
   "metadata": {},
   "source": [
    "## 3.2. 定义`弹力的合力`的 `大小` 和 `方向`"
   ]
  },
  {
   "cell_type": "code",
   "execution_count": 11,
   "metadata": {},
   "outputs": [],
   "source": [
    "# start_point 和 end_point 之间的距离\n",
    "dist_AB = np.sqrt( np.sum( np.power(pos_A - pos_B, 2) , axis=0) )\n",
    "# 相邻 images 之间的距离 (弹簧的原长，基于胡克定律计算弹簧力)\n",
    "dist_image = dist_AB / (num_images - 1)\n",
    "\n",
    "# 计算弹簧合力的大小和方向\n",
    "def spring_force(image_before: np.array, \n",
    "                image: np.array,\n",
    "                image_next: np.array,\n",
    "                k = 2.0,\n",
    "                ):\n",
    "    '''\n",
    "    Description\n",
    "    -----------\n",
    "        1. 计算弹簧合力的大小和方向\n",
    "    \n",
    "    Parameters\n",
    "    ----------\n",
    "        1. image_before: np.array (一维)\n",
    "            image 的坐标 \n",
    "        2. image: np.array (一维)\n",
    "            image 的坐标 \n",
    "        3. image_next: np.array (一维)\n",
    "            image 的坐标 \n",
    "        4. k: float\n",
    "            弹簧常数\n",
    "    '''\n",
    "    dist_before = np.sqrt( np.sum(np.power(image - image_before, 2), axis=0) )\n",
    "    # 胡克定律\n",
    "    force_before = (dist_before - dist_image) * k\n",
    "    # 单位方向向量\n",
    "    direction_before = (image - image_before) / dist_before\n",
    "\n",
    "    dist_next = np.sqrt( np.sum(np.power(image_next - image, 2), axis=0) )\n",
    "    # 胡克定律\n",
    "    force_next = (dist_image - dist_next) * k\n",
    "    # 单位方向向量\n",
    "    direction_next = (image_next - image) / dist_next\n",
    "\n",
    "    ### 计算两根弹簧的合力\n",
    "    force = force_before * direction_before + force_next * direction_next\n",
    "    ### 从 image_before 指向 image_next 的方向向量\n",
    "    direction = (image_next - image_before) / np.sqrt( np.sum(np.power(image_next - image_before, 2), axis=0) )\n",
    "\n",
    "    return force, direction"
   ]
  },
  {
   "cell_type": "markdown",
   "metadata": {},
   "source": [
    "## 3.3. 采用`弹力 (平行于轨迹)`和`重力 (垂直于轨迹)`的合力进行迭代\n",
    "1. 判断条件：\n",
    "   1. 前后两次迭代的`最大坐标差`\n",
    "   2. 前后两次迭代的`最大Target Function差`"
   ]
  },
  {
   "cell_type": "code",
   "execution_count": 18,
   "metadata": {},
   "outputs": [],
   "source": [
    "# 等间距插入 images\n",
    "for i in range(num_images):\n",
    "    images[i] = (pos_B - pos_A) / (num_images - 1) * i + pos_A\n",
    "\n",
    "# 初始化弹簧力、重力、方向(image_next - image_before)数组\n",
    "s_forces = np.zeros_like(images)\n",
    "directions = np.zeros_like(images)\n",
    "g_forces = np.zeros_like(images)\n",
    "\n",
    "# image 位置更新速率\n",
    "rate = 0.1\n",
    "# NEB 收敛判据\n",
    "err = 1e-8\n",
    "\n",
    "# NEB driver code\n",
    "def NEB(rate:float, err:float):\n",
    "    n_step = 0\n",
    "    pos_diff = 1    # pos_diff: 前后两次迭代的坐标差的最大值（某个方向, float）\n",
    "    data_diff = 1   # data_diff: 前后两次迭代的最大Target Function差的绝对值\n",
    "\n",
    "    while (pos_diff > err) or (data_diff > err):\n",
    "        # old_pos: 所有 images 的坐标\n",
    "        old_pos = images\n",
    "        # old_saddle: 所有 images 对应的最大的 Target function\n",
    "        old_saddle = np.max([data(images[i]) for i in range(num_images)])\n",
    "        \n",
    "        for i in range(1, num_images-1):\n",
    "            s_forces[i], directions[i] = spring_force(image_before=images[i-1],\n",
    "                                                    image=images[i],\n",
    "                                                    image_next=images[i+1],\n",
    "                                                    )\n",
    "            # 只需要弹簧力沿着轨迹的部分, Vector Decomposition\n",
    "            s_forces[i] = np.dot(s_forces[i], directions[i]) * directions[i]\n",
    "            \n",
    "            g_forces[i] = gradient(images[i])\n",
    "            # 只需要重力垂直于轨迹的部分, Vector Decomposition\n",
    "            g_forces[i] = g_forces[i] - np.dot(g_forces[i], directions[i]) * directions[i]\n",
    "            \n",
    "            # 更新 image 的坐标 \n",
    "            images[i] -= (s_forces[i] + g_forces[i]) * rate\n",
    "        \n",
    "        # new_pos: 更新后的 pos\n",
    "        new_pos = images\n",
    "        # new_saddle: 最大的 Target Function\n",
    "        new_saddle = np.max([data(images[i]) for i in range(num_images)])\n",
    "        # idx_saddle: 最大Target function 对应的 image 的索引\n",
    "        idx_saddle = np.argmax([data(images[i]) for i in range(num_images)])\n",
    "\n",
    "        pos_diff = np.max(np.abs(new_pos - old_pos))\n",
    "        data_diff = np.abs(new_saddle - old_saddle)\n",
    "        n_step += 1\n",
    "    \n",
    "    return n_step, idx_saddle"
   ]
  },
  {
   "cell_type": "code",
   "execution_count": 21,
   "metadata": {},
   "outputs": [
    {
     "name": "stdout",
     "output_type": "stream",
     "text": [
      "n_step     1\n",
      "idx_saddle 5\n",
      "images     [-0.59593054  0.28021293  0.28021293]\n",
      "data       -0.10501252488584867\n",
      "gradient   [-0.01279937 -0.01331384 -0.01331384]\n"
     ]
    }
   ],
   "source": [
    "n_step, idx_saddle = NEB(rate, err)\n",
    "print(\"n_step    \", n_step)\n",
    "print(\"idx_saddle\", idx_saddle)\n",
    "print(\"images    \", images[idx_saddle])\n",
    "print(\"data      \", data(images[idx_saddle]))\n",
    "print(\"gradient  \", gradient(images[idx_saddle]))  \n",
    "### Note: 中间构型仍然存在沿着最低能量路径方向的梯度，说明其并不在鞍点位置。我们需要进一步精修其位置"
   ]
  },
  {
   "cell_type": "markdown",
   "metadata": {},
   "source": [
    "# 4. Climbing Image Nudged Elastic Band\n",
    "1. 采用`重力 (沿着轨迹的方向)`更新位置，判断条件是珠子受重力方向的最大值"
   ]
  },
  {
   "cell_type": "code",
   "execution_count": 23,
   "metadata": {},
   "outputs": [],
   "source": [
    "def cNEB(image:np.array,\n",
    "        direction:np.array):\n",
    "    '''\n",
    "    Parameters\n",
    "    ----------\n",
    "        1. image: np.array (一维)\n",
    "            image 的坐标\n",
    "        2. direction: np.array (一维)\n",
    "            image 的轨迹方向 (image_next - image_before)\n",
    "    '''\n",
    "    g_force = 1\n",
    "    while np.max(np.abs(g_force)) > err:\n",
    "        g_force = gradient(image)\n",
    "        g_force = np.dot(g_force, direction) * direction\n",
    "        image += g_force * rate\n",
    "    return image"
   ]
  },
  {
   "cell_type": "code",
   "execution_count": 25,
   "metadata": {},
   "outputs": [
    {
     "name": "stdout",
     "output_type": "stream",
     "text": [
      "saddle point    [-0.60496254  0.27145535  0.27145535]\n",
      "gradient        [ 0.00056612 -0.00029194 -0.00029194]\n",
      "target function -0.10483814484384196\n"
     ]
    }
   ],
   "source": [
    "saddle_direction = (images[idx_saddle+1] - images[idx_saddle-1]) / \\\n",
    "                    np.sqrt( np.sum(np.power(images[idx_saddle+1] - images[idx_saddle-1], 2), axis=0) )\n",
    "saddle_point = cNEB(image=images[idx_saddle],\n",
    "                    direction=saddle_direction,\n",
    "                    )\n",
    "\n",
    "print(\"saddle point   \", saddle_point)\n",
    "print(\"gradient       \", gradient(saddle_point))\n",
    "print(\"target function\", data(saddle_point))\n",
    "\n",
    "\n",
    "# 精度还是不错的，梯度非常接近零啦"
   ]
  },
  {
   "cell_type": "code",
   "execution_count": null,
   "metadata": {},
   "outputs": [],
   "source": []
  }
 ],
 "metadata": {
  "kernelspec": {
   "display_name": "Python 3.9.7 ('research')",
   "language": "python",
   "name": "python3"
  },
  "language_info": {
   "codemirror_mode": {
    "name": "ipython",
    "version": 3
   },
   "file_extension": ".py",
   "mimetype": "text/x-python",
   "name": "python",
   "nbconvert_exporter": "python",
   "pygments_lexer": "ipython3",
   "version": "3.9.7"
  },
  "orig_nbformat": 4,
  "vscode": {
   "interpreter": {
    "hash": "7b361d90544c21c7e570702d0c4d23653c8dcac4c1ecf309667aae54eeacb0d0"
   }
  }
 },
 "nbformat": 4,
 "nbformat_minor": 2
}
