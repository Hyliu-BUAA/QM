{
 "cells": [
  {
   "cell_type": "markdown",
   "metadata": {},
   "source": [
    "# 0. `BFGS` Description\n",
    "<font color=\"steelblue\" size=\"4\">\n",
    "\n",
    "Website\n",
    "-------\n",
    "1. `Code`: https://github.com/trsav/bfgs/blob/master/BFGS.py\n",
    "\n",
    "Newton method\n",
    "-------------\n",
    "1. The `classic Newton method` approximates the function to be optimised $f(x)$ as a quadratic using the `Taylor series expansion`:\n",
    "$\\begin{equation}\n",
    "f(x+p) = f(x) + \\nabla f(x)^Tp + \\frac{1}{2}p^T\\nabla^2f(x)p \\\\\n",
    "\\end{equation}$\n",
    "2. By `minimising this function` with respect to $p$, `the optimal search direction` $p$ can be found as:\n",
    "$\\begin{equation}\n",
    "-\\nabla^2f(x_{k})^{-1} \\nabla f(x_k)\n",
    "\\end{equation}$\n",
    "3. The `step length` $\\alpha$ is then computed via a `backtrack linesearch` using `Wolfe conditions` that assure sufficient descrease.\n",
    "4. The `inverse of the Hessian matrix` $\\nabla^2 f^{-1}$ is `computationally expensive` to compute due to both finite difference limitations and the cost of inverting a particularly large matrix. \n",
    "\n",
    "BFGS\n",
    "----\n",
    "1. For this reason an approximation to the `inverse of the Hessian` is used $H$, This approximation is updated at each iteration based on:\n",
    "    - `the change in` $x$ \n",
    "    - `the change in`  $\\nabla f$\n",
    "$\\begin{equation}\n",
    "H_{k+1} = (I-\\frac{sy^T}{y^Ts})H_k(I-\\frac{ys^T}{y^Ts}) + \\frac{ss^T}{y^Ts}\n",
    "\\end{equation}$\n",
    "\n",
    "</font>"
   ]
  },
  {
   "cell_type": "markdown",
   "metadata": {},
   "source": [
    "# 1. Example \n",
    "<font color=\"steelblue\" size=\"4\">\n",
    "\n",
    "1. Testing the `BFGS algorithm` on the `Rosenbrock function` in 2 dimensions, an optimal solution is found in `34 iterations`.\n",
    "2. The code implements an `initial inverse of Hessian` $H_0$ as the `identity matrix`.\n",
    "    - If the problem is two dimensional then the code can produce a trajectory plot of the optimisation scheme. \n",
    "    - The `central difference method` is used for the calculation of gradients.\n",
    "\n",
    "</font>"
   ]
  },
  {
   "cell_type": "code",
   "execution_count": 1,
   "metadata": {},
   "outputs": [],
   "source": [
    "import numpy as np\n",
    "import matplotlib.pyplot as plt"
   ]
  },
  {
   "cell_type": "markdown",
   "metadata": {},
   "source": [
    "## 1.1. Rosenbrock function\n",
    "<font color=\"steelblue\" size=\"4\">\n",
    "\n",
    "`Rosenbrock function formula`:\n",
    "-----------------------------\n",
    "$\\begin{equation}\n",
    "f(x) = \\sum_{i=1}^{d-1}\\left[ 100(x_{i+1}-x_i^2)^2 + (x_i-1)^2 \\right]\n",
    "\\end{equation}$\n",
    "\n",
    "`Vectorize`:\n",
    "------------\n",
    "$\\begin{aligned}\n",
    "dia &=\n",
    "\\begin{bmatrix}\n",
    "x_1 & 0 & \\cdots & 0 \\\\\n",
    "0 & x_2 & \\cdots & 0 \\\\\n",
    "\\vdots & \\vdots & \\ddots & \\vdots \\\\\n",
    "0 & 0 & \\cdots & x_N \\\\\n",
    "\\end{bmatrix}_{N*N}\n",
    "\\newline\n",
    "offdia &=\n",
    "\\begin{bmatrix}\n",
    "0 & 1 & 0 & \\cdots & 0 \\\\\n",
    "0 & 0 & 1 & \\cdots & 0 \\\\\n",
    "\\vdots & \\vdots & \\vdots & \\ddots & \\vdots \\\\\n",
    "0 & 0 & 0 & \\cdots & 1 \\\\\n",
    "0 & 0 & 0 & \\cdots & 0 \\\\\n",
    "\\end{bmatrix}_{N*N}\n",
    "\\newline\n",
    "-dia+offdia &= \n",
    "\\begin{bmatrix}\n",
    "-x_1 & 1 & 0 & \\cdots & 0 & 0 \\\\\n",
    "0 & -x_2 & 1 & \\cdots & 0 & 0  \\\\\n",
    "\\vdots & \\vdots & \\vdots & \\ddots & \\vdots & \\vdots \\\\\n",
    "0 & 0 & 0 & \\cdots & -x_{N-1} & 1 \\\\\n",
    "0 & 0 & 0 & \\cdots & 0 & -x_N\\\\\n",
    "\\end{bmatrix}_{N*N}\n",
    "\\newline\n",
    "(-dia+offdia)\\vec{x} &= \n",
    "\\begin{bmatrix}\n",
    "-x_1 & 1 & 0 & \\cdots & 0 & 0 \\\\\n",
    "0 & -x_2 & 1 & \\cdots & 0 & 0  \\\\\n",
    "\\vdots & \\vdots & \\vdots & \\ddots & \\vdots & \\vdots \\\\\n",
    "0 & 0 & 0 & \\cdots & -x_{N-1} & 1 \\\\\n",
    "0 & 0 & 0 & \\cdots & 0 & -x_N\\\\\n",
    "\\end{bmatrix}_{N*N}\n",
    "\\begin{bmatrix}\n",
    "x_1 \\\\\n",
    "x_2 \\\\\n",
    "\\vdots \\\\\n",
    "x_{N-1} \\\\\n",
    "x_N \n",
    "\\end{bmatrix}=\n",
    "\\begin{bmatrix}\n",
    "x_2 - x_1^2 \\\\\n",
    "x_3 - x_2^2 \\\\\n",
    "\\vdots \\\\\n",
    "x_N - x_{N-1}^2 \\\\\n",
    "-x_N^2\n",
    "\\end{bmatrix}\n",
    "\\end{aligned}$\n",
    "\n",
    "</font>"
   ]
  },
  {
   "cell_type": "code",
   "execution_count": 4,
   "metadata": {},
   "outputs": [],
   "source": [
    "'''\n",
    "Author       : Liu Hanyu\n",
    "Email        : hyliu2016@buaa.edu.cn\n",
    "Date         : 2022-10-17 11:02:55\n",
    "LastEditTime : 2022-10-17 13:52:58\n",
    "FilePath     : /Quantum_Mechanics/algorithm_implementation/9.BFGS/notes/2.bfgs_demo1.ipynb\n",
    "Description  : \n",
    "'''\n",
    "def f(x_array: np.array):\n",
    "    '''\n",
    "    Parameters\n",
    "    ----------\n",
    "        1. x_array: np.array    \n",
    "    '''\n",
    "    num_dimens = x_array.shape[0]"
   ]
  },
  {
   "cell_type": "code",
   "execution_count": null,
   "metadata": {},
   "outputs": [],
   "source": []
  }
 ],
 "metadata": {
  "kernelspec": {
   "display_name": "Python 3.9.7 ('research')",
   "language": "python",
   "name": "python3"
  },
  "language_info": {
   "codemirror_mode": {
    "name": "ipython",
    "version": 3
   },
   "file_extension": ".py",
   "mimetype": "text/x-python",
   "name": "python",
   "nbconvert_exporter": "python",
   "pygments_lexer": "ipython3",
   "version": "3.9.7"
  },
  "orig_nbformat": 4,
  "vscode": {
   "interpreter": {
    "hash": "7b361d90544c21c7e570702d0c4d23653c8dcac4c1ecf309667aae54eeacb0d0"
   }
  }
 },
 "nbformat": 4,
 "nbformat_minor": 2
}
