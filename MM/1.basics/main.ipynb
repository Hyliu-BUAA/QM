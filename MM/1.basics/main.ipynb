{
 "cells": [
  {
   "cell_type": "markdown",
   "metadata": {},
   "source": [
    "# 1. Forward\n",
    "1. `Lennard-Jones potential` is often used for describing `non-bonded interactions(van der Waals interaction)` between molecules. We will introduce it in this paper and apply it to a MD process in 2D space."
   ]
  },
  {
   "cell_type": "markdown",
   "metadata": {},
   "source": [
    "# 2. Interaction between molecules\n",
    "\n",
    "## 2.1. Brief\n",
    "1. The essence of force is four interactions:\n",
    "   1. `Strong interaction`: It makes the protons(质子) and neutrons(中子) in the nucleus exist stably.\n",
    "   2. `Electromagnetic interaction`: which contributes to chemicals bonds, intermolecular interaction forces, and various forces in macroscopic world, such as surface tension, electrostatic force, magnetic force and so on.\n",
    "   3. `Weak interaction`: It is only effective in the nucleus, and the strength is weak, although there is no sense of existence, but it's very important.\n",
    "   4. `Universal gravitation`: It is extremely weak and has no observable effect on the properties of matter, and can be ignored.\n",
    "2. The `intermolecular interaction` caused by `eletromagnetic interactions` are mainly introduced here, including `attractive or repulsive forces that act between atoms and other types of adjacent particles, such as atoms or ions`.\n",
    "3. Intermolecular interaction (not-bonded interaction) are weak relative to intramolecular interactions (bonded interactions). \n",
    "   - For example, `covalent bonds` involving shared pairs of eletrons between atoms are much stronger that the forces that exist between adjacent molecules. Both sets of forces are important components of the force fields commonly used in molecular mechanics.\n",
    "4. The parts of intermolecular interaction:\n",
    "   1. `Van der Waals force`: It generally exists between any particles in solid, liquid and gaseous states, and is inversely proportional to the six power of the distance.\n",
    "   2. `Secondary bond`: 键长长于共价键、离子键、金属键，但短于范德华相互作用的微观粒子相互作用。\n",
    "      - 氢键（Hydrogen bonding）：氢与氮、氧、氟所键结产生的作用力。\n",
    "      - 非金属原子间次级键：存在于碘单质晶体中。\n",
    "      - 金属原子与非金属原子间次级键：存在于金属配合物中。\n",
    "      - 亲金作用。\n",
    "      - 亲银作用。 此外科学家也不断研究新的分子间作用力，包括双氢键和金键等。\n",
    "\n",
    "\n",
    "## 2.2. Van der waals force\n",
    "Before introducing the source of van der Waals force, let's briefly understand a few concepts:\n",
    "1. `Intrisic dipole (固有偶极)`：Due to the different constituent elements in polar molecules, their ability to attract electrons is different, which makes the phenomenon of electron offset in the molecule, which produce polarity, and the `dipole exist continuously`.\n",
    "2. `Induced dipole (诱导偶极)`：It means that when non-polar molecules are in electronic field or there are other polar molecules in relatively short distance, because the electrons are negatively charged and the nucleus is positively charged. \n",
    "3. `Instantaneous dipole (顺势偶极)`：In all molecules, whether polar molecules or non-polar molecules, the nuclei are always vibrating, and the electrons are always moving and transitioning. When they move, they occasionally leave the equilibrium position to generate polarity, but this process The duration is very short, so it is called an instantaneous dipole.\n",
    "\n",
    "### 2.2.1. Lennard-Jones potenial (12-6 potential) model\n",
    "1. `Lennard-Jones potential` describes basic features of interactions between simple atoms and molecules: \n",
    "   1. Two interacting particles repel each other at very close distance.\n",
    "   2. attract each other at moderate distance\n",
    "   3. do not interact at infinite distance\n",
    "   4. `L-J potential` is a pair of potentials. That is the potential does not contain three- or many-body interactions.\n",
    "2. <font color=\"red\">`L-J potention` 是研究最广泛和最彻底的势，被认为是简单而现实的分子键相互作用的半经验模型。`L-J potential` 的常用表达式为：</font> $$ E_{ij} = 4\\epsilon \\left[ (\\frac{\\sigma}{r_{ij}})^{12} - (\\frac{\\sigma}{r_{ij}})^{6} \\right] $$\n",
    "   1. $E_{ij}$ `被认为是两体之间的势能大小`\n",
    "   2. $\\epsilon$: 为控制相互作用的强度（以 eV 为单位）,`从本质上讲，它衡量两体相互吸引的强度`, 通常称为势阱深度（也叫“色散能”）;\n",
    "   3. $\\sigma$: 为`相互作用的势能正好为零时的两原子间的距离`，$\\sigma$ 给出了两个非键合粒子的接近程度的度量，因此被称为范德瓦尔斯半径。它等于非成键粒子之间核间距离的二分之一。\n",
    "   4. $r_{ij}$: i, j 两体之间的距离\n",
    "3. `L-J potential` 描述了:\n",
    "   1. $\\frac{1}{r_{ij}^{12}}$: `Pauli repulsion` due to overlapping eletron orbitals over short distances of interacting particles. \n",
    "   2. $\\frac{1}{r_{ij}^{6}}$: Attraction of long-distance interactions (mainly dispersive force)\n",
    "\n",
    "## 2.3. Potential 在分子模拟中的应用\n",
    "1. `L-J potential` 不仅在在计算化学和软物质物理学中至关重要，而且对于真实物质的建模也是如此。使用 `L-J potential` 计算出的宏观特性，一方面与氩气等简单物质的实验数据有很好的一致性，另一方面势函数[公式]与量子化学的结果有相当的一致性。\n",
    "2. 同样的，`L-J potential` 对`液相`中的分子相互作用有很好的描述，而对`固相`中的分子相互作用则只有大致的描述。`这主要是由于多体相互作用在固相中起着重要作用`，而`L-J potential`中不包括这些作用。\n",
    "3. 因此，`L-J potential`被广泛用于软物质物理学和相关领域，<font color=\"red\">而在固体物理学中却不常使用</font>。\n",
    "4. `由于其简单性，经常被用来描述气体和简单流体的特性`，并在分子模型中建立色散和排斥相互作用的模型。它对惰性气体原子和甲烷特别准确。此外，对于中性原子和分子的长距离和短距离的分子相互作用计算，它也能产生一个很好的近似值。\n",
    "5. 因此，`L-J potential`经常被用作复杂分子（如烷烃或水）的分子模型的构建模块（力场中的非键相互作用势能项）。大量的力场都是基于`L-J potential`，例如 `TraPPE力场,OPLS力场,和MolMod力场`,（对分子力场的概述不在本文讨论范围之内）对于最先进的固态材料建模，使用了更复杂的`多体势（如EAM势）`。\n",
    "6. LJ势还可用于模拟固-液界面上的吸附作用，即物理吸附或化学吸附。"
   ]
  },
  {
   "cell_type": "markdown",
   "metadata": {},
   "source": [
    "# 3. 分子动力学模拟"
   ]
  }
 ],
 "metadata": {
  "language_info": {
   "name": "python"
  },
  "orig_nbformat": 4
 },
 "nbformat": 4,
 "nbformat_minor": 2
}
